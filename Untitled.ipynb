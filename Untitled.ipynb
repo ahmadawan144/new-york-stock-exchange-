{
 "cells": [
  {
   "cell_type": "markdown",
   "metadata": {},
   "source": [
    "# new york stock exchange "
   ]
  },
  {
   "cell_type": "code",
   "execution_count": 68,
   "metadata": {},
   "outputs": [],
   "source": [
    "import numpy as np \n",
    "import pandas as pd \n",
    "import matplotlib.pyplot as plt\n",
    "from matplotlib import style\n",
    "import datetime as dt1\n",
    "from datetime import datetime as dt"
   ]
  },
  {
   "cell_type": "code",
   "execution_count": 69,
   "metadata": {},
   "outputs": [],
   "source": [
    "from sklearn import preprocessing,svm\n",
    "from sklearn.linear_model import LinearRegression\n",
    "import math\n",
    "from sklearn.model_selection import train_test_split"
   ]
  },
  {
   "cell_type": "markdown",
   "metadata": {},
   "source": [
    "# select csco label to predtect the stack markeet"
   ]
  },
  {
   "cell_type": "code",
   "execution_count": 70,
   "metadata": {},
   "outputs": [
    {
     "name": "stdout",
     "output_type": "stream",
     "text": [
      "              date symbol       open      close        low       high  \\\n",
      "356     2010-01-04   CSCO  24.110001  24.690001  24.010000  24.840000   \n",
      "824     2010-01-05   CSCO  24.600000  24.580000  24.379999  24.730000   \n",
      "1292    2010-01-06   CSCO  24.540001  24.420000  24.340000  24.740000   \n",
      "1760    2010-01-07   CSCO  24.299999  24.530001  24.170000  24.570000   \n",
      "2228    2010-01-08   CSCO  24.379999  24.660000  24.250000  24.700001   \n",
      "...            ...    ...        ...        ...        ...        ...   \n",
      "848874  2016-12-23   CSCO  30.540001  30.530001  30.400000  30.600000   \n",
      "849374  2016-12-27   CSCO  30.639999  30.680000  30.600000  30.820000   \n",
      "849874  2016-12-28   CSCO  30.700001  30.420000  30.350000  30.770000   \n",
      "850374  2016-12-29   CSCO  30.370001  30.459999  30.330000  30.549999   \n",
      "850874  2016-12-30   CSCO  30.559999  30.219999  30.129999  30.600000   \n",
      "\n",
      "            volume  \n",
      "356     59853700.0  \n",
      "824     45124500.0  \n",
      "1292    35715700.0  \n",
      "1760    31531200.0  \n",
      "2228    39115900.0  \n",
      "...            ...  \n",
      "848874   9167500.0  \n",
      "849374  14175500.0  \n",
      "849874  12022200.0  \n",
      "850374  10995600.0  \n",
      "850874  20190000.0  \n",
      "\n",
      "[1762 rows x 7 columns]\n"
     ]
    }
   ],
   "source": [
    "df=pd.read_csv('prices.csv')\n",
    "df.tail()\n",
    "df=df.loc[df['symbol'] == 'CSCO']\n",
    "print(df)\n"
   ]
  },
  {
   "cell_type": "code",
   "execution_count": 71,
   "metadata": {},
   "outputs": [
    {
     "name": "stdout",
     "output_type": "stream",
     "text": [
      "18\n",
      "            date symbol       open      close        low       high  \\\n",
      "356   2010-01-04   CSCO  24.110001  24.690001  24.010000  24.840000   \n",
      "824   2010-01-05   CSCO  24.600000  24.580000  24.379999  24.730000   \n",
      "1292  2010-01-06   CSCO  24.540001  24.420000  24.340000  24.740000   \n",
      "1760  2010-01-07   CSCO  24.299999  24.530001  24.170000  24.570000   \n",
      "2228  2010-01-08   CSCO  24.379999  24.660000  24.250000  24.700001   \n",
      "\n",
      "          volume      label  \n",
      "356   59853700.0  22.469999  \n",
      "824   45124500.0  22.730000  \n",
      "1292  35715700.0  23.020000  \n",
      "1760  31531200.0  23.070000  \n",
      "2228  39115900.0  23.160000  \n"
     ]
    }
   ],
   "source": [
    "forecast_col = 'close'\n",
    "#df.fillna(value=-99999, inplace=True)\n",
    "forecast_out = int(math.ceil(0.01 * len(df)))\n",
    "print(forecast_out)\n",
    "df['label'] = df[forecast_col].shift(-forecast_out)\n",
    "print(df.head())"
   ]
  },
  {
   "cell_type": "code",
   "execution_count": 72,
   "metadata": {},
   "outputs": [
    {
     "name": "stdout",
     "output_type": "stream",
     "text": [
      "[[2.4110001e+01 2.4690001e+01 2.4010000e+01 2.4840000e+01 5.9853700e+07]\n",
      " [2.4600000e+01 2.4580000e+01 2.4379999e+01 2.4730000e+01 4.5124500e+07]\n",
      " [2.4540001e+01 2.4420000e+01 2.4340000e+01 2.4740000e+01 3.5715700e+07]\n",
      " ...\n",
      " [3.0700001e+01 3.0420000e+01 3.0350000e+01 3.0770000e+01 1.2022200e+07]\n",
      " [3.0370001e+01 3.0459999e+01 3.0330000e+01 3.0549999e+01 1.0995600e+07]\n",
      " [3.0559999e+01 3.0219999e+01 3.0129999e+01 3.0600000e+01 2.0190000e+07]]\n"
     ]
    }
   ],
   "source": [
    "\n",
    "\n",
    "X=np.array(df.drop(['label','symbol','date'], axis=1))\n",
    "print(X)\n"
   ]
  },
  {
   "cell_type": "code",
   "execution_count": 73,
   "metadata": {},
   "outputs": [
    {
     "name": "stdout",
     "output_type": "stream",
     "text": [
      "[[ 0.20065804  0.33166515  0.22464105  0.31929195  0.57852431]\n",
      " [ 0.31349753  0.30639196  0.31004432  0.29407151  0.10161558]\n",
      " [ 0.29968065  0.26963129  0.30081174  0.29636427 -0.20302682]\n",
      " ...\n",
      " [ 1.71823707  1.64815648  1.6880416   1.6789031  -0.97018573]\n",
      " [ 1.64224298  1.65734642  1.68342519  1.62846199 -1.00342545]\n",
      " [ 1.68599669  1.60220541  1.6372609   1.63992605 -0.70572499]]\n"
     ]
    }
   ],
   "source": [
    "X = preprocessing.scale(X)\n",
    "print(X)\n"
   ]
  },
  {
   "cell_type": "code",
   "execution_count": 74,
   "metadata": {},
   "outputs": [
    {
     "name": "stdout",
     "output_type": "stream",
     "text": [
      "[[ 1.42347187  1.39772441  1.43183109  1.40835653 -0.47382726]\n",
      " [ 1.43728898  1.54017224  1.45029671  1.5115313  -0.38226099]\n",
      " [ 1.58236884  1.54017224  1.58878888  1.57802133 -0.66752165]\n",
      " [ 1.55243154  1.56544474  1.54493303  1.51840937 -0.66777744]\n",
      " [ 1.57546006  1.59071793  1.61417934  1.54821558 -0.79969374]\n",
      " [ 1.62612256  1.6872147   1.65341879  1.64909689 -0.5482718 ]\n",
      " [ 1.69520833  1.65734642  1.70189081  1.74768613 -0.4672253 ]\n",
      " [ 1.69290548  1.69640464  1.72497284  1.68578117 -0.68227975]\n",
      " [ 1.71823707  1.6872147   1.66957597  1.66743903  0.1259318 ]\n",
      " [ 1.70672258  1.72397537  1.73189768  1.701831   -0.77085425]\n",
      " [ 1.74817391  1.68032184  1.7134316   1.701831   -0.79362602]\n",
      " [ 1.71593422  1.64815648  1.70189081  1.66056119 -0.8903178 ]\n",
      " [ 1.6491513   1.65734642  1.66495957  1.61241284 -0.94060477]\n",
      " [ 1.68139145  1.67342967  1.69958261  1.63992605 -1.0626165 ]\n",
      " [ 1.7044195   1.70789257  1.74574666  1.69036694 -0.9004652 ]\n",
      " [ 1.71823707  1.64815648  1.6880416   1.6789031  -0.97018573]\n",
      " [ 1.64224298  1.65734642  1.68342519  1.62846199 -1.00342545]\n",
      " [ 1.68599669  1.60220541  1.6372609   1.63992605 -0.70572499]]\n"
     ]
    }
   ],
   "source": [
    "X_lately = X[-forecast_out:]\n",
    "print(X_lately)\n"
   ]
  },
  {
   "cell_type": "code",
   "execution_count": 75,
   "metadata": {},
   "outputs": [],
   "source": [
    "X = X[:-forecast_out]\n",
    "df.dropna(inplace=True)\n",
    "y = np.array(df['label'])\n",
    "X_train, X_test, y_train, y_test = train_test_split( X, y, test_size=0.4)"
   ]
  },
  {
   "cell_type": "code",
   "execution_count": 76,
   "metadata": {},
   "outputs": [
    {
     "name": "stdout",
     "output_type": "stream",
     "text": [
      "0.883916066029174\n"
     ]
    }
   ],
   "source": [
    "clf = LinearRegression(n_jobs=-1)\n",
    "clf.fit(X_train, y_train)\n",
    "confidence = clf.score(X_test, y_test)\n",
    "print(confidence)"
   ]
  },
  {
   "cell_type": "code",
   "execution_count": 77,
   "metadata": {},
   "outputs": [
    {
     "name": "stdout",
     "output_type": "stream",
     "text": [
      "[29.08908516 29.66433598 29.75804778 29.76481374 29.75332678 30.18424165\n",
      " 30.31487539 30.24090326 30.25262846 30.38011162 30.42538139 30.22554722\n",
      " 30.1152817  30.20808188 30.28533496 30.3351575  30.0873447  30.15963903]\n"
     ]
    }
   ],
   "source": [
    "forecast_set = clf.predict(X_lately)\n",
    "print(forecast_set)\n"
   ]
  },
  {
   "cell_type": "code",
   "execution_count": 78,
   "metadata": {},
   "outputs": [
    {
     "name": "stdout",
     "output_type": "stream",
     "text": [
      "2016-12-05\n"
     ]
    }
   ],
   "source": [
    "df['Forecast'] = np.nan\n",
    "last_date = df.iloc[-1].date\n",
    "print(last_date)\n"
   ]
  },
  {
   "cell_type": "code",
   "execution_count": 79,
   "metadata": {},
   "outputs": [
    {
     "name": "stdout",
     "output_type": "stream",
     "text": [
      "                    date symbol  open  close  low  high  volume  label  \\\n",
      "2016-12-19 00:00:00  NaN    NaN   NaN    NaN  NaN   NaN     NaN    NaN   \n",
      "2016-12-20 00:00:00  NaN    NaN   NaN    NaN  NaN   NaN     NaN    NaN   \n",
      "2016-12-21 00:00:00  NaN    NaN   NaN    NaN  NaN   NaN     NaN    NaN   \n",
      "2016-12-22 00:00:00  NaN    NaN   NaN    NaN  NaN   NaN     NaN    NaN   \n",
      "2016-12-23 00:00:00  NaN    NaN   NaN    NaN  NaN   NaN     NaN    NaN   \n",
      "\n",
      "                      Forecast  \n",
      "2016-12-19 00:00:00  30.208082  \n",
      "2016-12-20 00:00:00  30.285335  \n",
      "2016-12-21 00:00:00  30.335157  \n",
      "2016-12-22 00:00:00  30.087345  \n",
      "2016-12-23 00:00:00  30.159639  \n"
     ]
    }
   ],
   "source": [
    "last_date=dt.strptime(last_date, '%Y-%m-%d').timestamp()\n",
    "last_unix = last_date\n",
    "one_day = 86400\n",
    "next_unix = last_unix + one_day\n",
    "\n",
    "for i in forecast_set:\n",
    "    next_date = dt.fromtimestamp(next_unix)\n",
    "    next_unix += 86400\n",
    "    df.loc[next_date] = [np.nan for _ in range(len(df.columns)-1)]+[i]\n",
    "print(df.tail())\n"
   ]
  },
  {
   "cell_type": "code",
   "execution_count": 80,
   "metadata": {},
   "outputs": [
    {
     "data": {
      "image/png": "[encoded data removed]",
      "text/plain": [
       "<Figure size 432x288 with 1 Axes>"
      ]
     },
     "metadata": {
      "needs_background": "light"
     },
     "output_type": "display_data"
    }
   ],
   "source": [
    "df['close'].plot()\n",
    "df['Forecast'].plot()\n",
    "#plt.legend(loc=4)\n",
    "plt.xlabel('Date')\n",
    "plt.ylabel('Price')\n",
    "plt.show()"
   ]
  },
  {
   "cell_type": "code",
   "execution_count": null,
   "metadata": {},
   "outputs": [],
   "source": []
  }
 ],
 "metadata": {
  "kernelspec": {
   "display_name": "Python 3",
   "language": "python",
   "name": "python3"
  },
  "language_info": {
   "codemirror_mode": {
    "name": "ipython",
    "version": 3
   },
   "file_extension": ".py",
   "mimetype": "text/x-python",
   "name": "python",
   "nbconvert_exporter": "python",
   "pygments_lexer": "ipython3",
   "version": "3.7.5"
  }
 },
 "nbformat": 4,
 "nbformat_minor": 2
}
